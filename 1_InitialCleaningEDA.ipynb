{
 "cells": [
  {
   "cell_type": "markdown",
   "metadata": {},
   "source": [
    "## Initial Cleaning of Scraped Data"
   ]
  },
  {
   "cell_type": "markdown",
   "metadata": {},
   "source": [
    "In this notebook, I will clean the scraped data and perform some basic Exploratory Data Analysis to understand the dataset. "
   ]
  },
  {
   "cell_type": "code",
   "execution_count": 1,
   "metadata": {
    "id": "i6uZ3zw3a5Nf"
   },
   "outputs": [],
   "source": [
    "# Import libraries\n",
    "import numpy as np\n",
    "import pandas as pd\n",
    "import matplotlib.pyplot as plt\n",
    "import re\n",
    "\n",
    "import string\n",
    "puncs = string.punctuation"
   ]
  },
  {
   "cell_type": "markdown",
   "metadata": {},
   "source": [
    "### Overview of the dataset"
   ]
  },
  {
   "cell_type": "code",
   "execution_count": 2,
   "metadata": {
    "id": "mp8nvz03bCsw"
   },
   "outputs": [],
   "source": [
    "# Read in csv\n",
    "df = pd.read_csv('pubmedscrape_full.csv', index_col='Unnamed: 0')"
   ]
  },
  {
   "cell_type": "code",
   "execution_count": 3,
   "metadata": {
    "colab": {
     "base_uri": "https://localhost:8080/",
     "height": 490
    },
    "id": "77EA7rwBdLcG",
    "outputId": "65a35ab3-1142-4fc3-fd30-6551eba46582",
    "scrolled": true
   },
   "outputs": [
    {
     "data": {
      "text/html": [
       "<div>\n",
       "<style scoped>\n",
       "    .dataframe tbody tr th:only-of-type {\n",
       "        vertical-align: middle;\n",
       "    }\n",
       "\n",
       "    .dataframe tbody tr th {\n",
       "        vertical-align: top;\n",
       "    }\n",
       "\n",
       "    .dataframe thead th {\n",
       "        text-align: right;\n",
       "    }\n",
       "</style>\n",
       "<table border=\"1\" class=\"dataframe\">\n",
       "  <thead>\n",
       "    <tr style=\"text-align: right;\">\n",
       "      <th></th>\n",
       "      <th>article_id</th>\n",
       "      <th>title</th>\n",
       "      <th>publication_type</th>\n",
       "      <th>abstract</th>\n",
       "      <th>journal_title</th>\n",
       "      <th>citation</th>\n",
       "      <th>n_authors</th>\n",
       "      <th>affiliations</th>\n",
       "      <th>n_affiliations</th>\n",
       "      <th>n_citations</th>\n",
       "      <th>keywords</th>\n",
       "      <th>n_references</th>\n",
       "    </tr>\n",
       "  </thead>\n",
       "  <tbody>\n",
       "    <tr>\n",
       "      <th>0</th>\n",
       "      <td>31662153</td>\n",
       "      <td>Stem cell therapy for neurological disorders -...</td>\n",
       "      <td>Review</td>\n",
       "      <td>\\n\\n      \\n      Neurological disease encompa...</td>\n",
       "      <td>South African medical journal = Suid-Afrikaans...</td>\n",
       "      <td>2019 Sep 10;109(8b):70-77.</td>\n",
       "      <td>4</td>\n",
       "      <td>['Department of Pathology and Immunology, Facu...</td>\n",
       "      <td>1</td>\n",
       "      <td>5</td>\n",
       "      <td>['Cell', 'Humans', 'Nervous System Diseases / ...</td>\n",
       "      <td>NaN</td>\n",
       "    </tr>\n",
       "    <tr>\n",
       "      <th>1</th>\n",
       "      <td>30053745</td>\n",
       "      <td>Neural stem cell therapy-Brief review - PubMed</td>\n",
       "      <td>Review</td>\n",
       "      <td>\\n\\n      \\n      Adult mammalian neural stem ...</td>\n",
       "      <td>Clinical neurology and neurosurgery</td>\n",
       "      <td>2018 Oct;173:8-14.</td>\n",
       "      <td>3</td>\n",
       "      <td>['Department of Anatomy, Medical University of...</td>\n",
       "      <td>3</td>\n",
       "      <td>13</td>\n",
       "      <td>['Animals', 'Cell Differentiation / physiology...</td>\n",
       "      <td>NaN</td>\n",
       "    </tr>\n",
       "    <tr>\n",
       "      <th>2</th>\n",
       "      <td>30121644</td>\n",
       "      <td>Stem Cell Therapy in Heart Diseases - Cell Typ...</td>\n",
       "      <td>Review</td>\n",
       "      <td>\\n\\n      \\n      A large number of clinical t...</td>\n",
       "      <td>Cellular physiology and biochemistry : interna...</td>\n",
       "      <td>2018;48(6):2607-2655.</td>\n",
       "      <td>3</td>\n",
       "      <td>['Reference and Translation Center for Cardiac...</td>\n",
       "      <td>6</td>\n",
       "      <td>35</td>\n",
       "      <td>['Embryonic Stem Cells / cytology', 'Embryonic...</td>\n",
       "      <td>NaN</td>\n",
       "    </tr>\n",
       "    <tr>\n",
       "      <th>3</th>\n",
       "      <td>28543595</td>\n",
       "      <td>Stem Cell Therapy: A New Therapeutic Option fo...</td>\n",
       "      <td>Review</td>\n",
       "      <td>\\n\\n      \\n      Cardiovascular diseases are ...</td>\n",
       "      <td>Journal of cellular biochemistry</td>\n",
       "      <td>2018 Jan;119(1):95-104.</td>\n",
       "      <td>7</td>\n",
       "      <td>['Department of Medical Biotechnology, School ...</td>\n",
       "      <td>7</td>\n",
       "      <td>27</td>\n",
       "      <td>['Cardiovascular Diseases / etiology', 'Cardio...</td>\n",
       "      <td>NaN</td>\n",
       "    </tr>\n",
       "    <tr>\n",
       "      <th>4</th>\n",
       "      <td>30039439</td>\n",
       "      <td>Stem Cell Therapy for Multiple Sclerosis - PubMed</td>\n",
       "      <td>Review</td>\n",
       "      <td>\\n\\n      \\n      Multiple sclerosis (MS) is a...</td>\n",
       "      <td>Advances in experimental medicine and biology</td>\n",
       "      <td>2019;1084:145-174.</td>\n",
       "      <td>4</td>\n",
       "      <td>['Department of Molecular Biology and Genetics...</td>\n",
       "      <td>5</td>\n",
       "      <td>8</td>\n",
       "      <td>['Animals', 'Humans', 'Multiple Sclerosis* / t...</td>\n",
       "      <td>NaN</td>\n",
       "    </tr>\n",
       "  </tbody>\n",
       "</table>\n",
       "</div>"
      ],
      "text/plain": [
       "   article_id                                              title  \\\n",
       "0    31662153  Stem cell therapy for neurological disorders -...   \n",
       "1    30053745     Neural stem cell therapy-Brief review - PubMed   \n",
       "2    30121644  Stem Cell Therapy in Heart Diseases - Cell Typ...   \n",
       "3    28543595  Stem Cell Therapy: A New Therapeutic Option fo...   \n",
       "4    30039439  Stem Cell Therapy for Multiple Sclerosis - PubMed   \n",
       "\n",
       "  publication_type                                           abstract  \\\n",
       "0           Review  \\n\\n      \\n      Neurological disease encompa...   \n",
       "1           Review  \\n\\n      \\n      Adult mammalian neural stem ...   \n",
       "2           Review  \\n\\n      \\n      A large number of clinical t...   \n",
       "3           Review  \\n\\n      \\n      Cardiovascular diseases are ...   \n",
       "4           Review  \\n\\n      \\n      Multiple sclerosis (MS) is a...   \n",
       "\n",
       "                                       journal_title  \\\n",
       "0  South African medical journal = Suid-Afrikaans...   \n",
       "1                Clinical neurology and neurosurgery   \n",
       "2  Cellular physiology and biochemistry : interna...   \n",
       "3                   Journal of cellular biochemistry   \n",
       "4      Advances in experimental medicine and biology   \n",
       "\n",
       "                     citation  n_authors  \\\n",
       "0  2019 Sep 10;109(8b):70-77.          4   \n",
       "1          2018 Oct;173:8-14.          3   \n",
       "2       2018;48(6):2607-2655.          3   \n",
       "3     2018 Jan;119(1):95-104.          7   \n",
       "4          2019;1084:145-174.          4   \n",
       "\n",
       "                                        affiliations  n_affiliations  \\\n",
       "0  ['Department of Pathology and Immunology, Facu...               1   \n",
       "1  ['Department of Anatomy, Medical University of...               3   \n",
       "2  ['Reference and Translation Center for Cardiac...               6   \n",
       "3  ['Department of Medical Biotechnology, School ...               7   \n",
       "4  ['Department of Molecular Biology and Genetics...               5   \n",
       "\n",
       "  n_citations                                           keywords n_references  \n",
       "0           5  ['Cell', 'Humans', 'Nervous System Diseases / ...          NaN  \n",
       "1          13  ['Animals', 'Cell Differentiation / physiology...          NaN  \n",
       "2          35  ['Embryonic Stem Cells / cytology', 'Embryonic...          NaN  \n",
       "3          27  ['Cardiovascular Diseases / etiology', 'Cardio...          NaN  \n",
       "4           8  ['Animals', 'Humans', 'Multiple Sclerosis* / t...          NaN  "
      ]
     },
     "execution_count": 3,
     "metadata": {},
     "output_type": "execute_result"
    }
   ],
   "source": [
    "# Take a look at the raw data\n",
    "df.head()"
   ]
  },
  {
   "cell_type": "code",
   "execution_count": 4,
   "metadata": {
    "colab": {
     "base_uri": "https://localhost:8080/"
    },
    "id": "1yYZbAyvbvHL",
    "outputId": "7ee3b57f-9195-4461-c5c8-a73996a51afa"
   },
   "outputs": [
    {
     "data": {
      "text/plain": [
       "(9926, 12)"
      ]
     },
     "execution_count": 4,
     "metadata": {},
     "output_type": "execute_result"
    }
   ],
   "source": [
    "# Understand shape of dataframe\n",
    "df.shape"
   ]
  },
  {
   "cell_type": "code",
   "execution_count": 5,
   "metadata": {
    "colab": {
     "base_uri": "https://localhost:8080/"
    },
    "id": "X2TVu8Xdc6ND",
    "outputId": "88f9ee0f-dfa3-4a28-fbf0-e5c145fbf4fd",
    "scrolled": true
   },
   "outputs": [
    {
     "name": "stdout",
     "output_type": "stream",
     "text": [
      "<class 'pandas.core.frame.DataFrame'>\n",
      "Int64Index: 9926 entries, 0 to 9925\n",
      "Data columns (total 12 columns):\n",
      " #   Column            Non-Null Count  Dtype \n",
      "---  ------            --------------  ----- \n",
      " 0   article_id        9926 non-null   int64 \n",
      " 1   title             9926 non-null   object\n",
      " 2   publication_type  9807 non-null   object\n",
      " 3   abstract          8892 non-null   object\n",
      " 4   journal_title     9926 non-null   object\n",
      " 5   citation          9926 non-null   object\n",
      " 6   n_authors         9926 non-null   int64 \n",
      " 7   affiliations      9926 non-null   object\n",
      " 8   n_affiliations    9926 non-null   int64 \n",
      " 9   n_citations       8001 non-null   object\n",
      " 10  keywords          9926 non-null   object\n",
      " 11  n_references      2968 non-null   object\n",
      "dtypes: int64(3), object(9)\n",
      "memory usage: 1008.1+ KB\n"
     ]
    }
   ],
   "source": [
    "# What info does each column hold?\n",
    "df.info()"
   ]
  },
  {
   "cell_type": "code",
   "execution_count": 6,
   "metadata": {
    "scrolled": false
   },
   "outputs": [
    {
     "name": "stdout",
     "output_type": "stream",
     "text": [
      "Number of duplicated rows = 5\n"
     ]
    },
    {
     "data": {
      "text/html": [
       "<div>\n",
       "<style scoped>\n",
       "    .dataframe tbody tr th:only-of-type {\n",
       "        vertical-align: middle;\n",
       "    }\n",
       "\n",
       "    .dataframe tbody tr th {\n",
       "        vertical-align: top;\n",
       "    }\n",
       "\n",
       "    .dataframe thead th {\n",
       "        text-align: right;\n",
       "    }\n",
       "</style>\n",
       "<table border=\"1\" class=\"dataframe\">\n",
       "  <thead>\n",
       "    <tr style=\"text-align: right;\">\n",
       "      <th></th>\n",
       "      <th>article_id</th>\n",
       "      <th>title</th>\n",
       "      <th>publication_type</th>\n",
       "      <th>abstract</th>\n",
       "      <th>journal_title</th>\n",
       "      <th>citation</th>\n",
       "      <th>n_authors</th>\n",
       "      <th>affiliations</th>\n",
       "      <th>n_affiliations</th>\n",
       "      <th>n_citations</th>\n",
       "      <th>keywords</th>\n",
       "      <th>n_references</th>\n",
       "    </tr>\n",
       "  </thead>\n",
       "  <tbody>\n",
       "    <tr>\n",
       "      <th>7384</th>\n",
       "      <td>31215778</td>\n",
       "      <td>Application of Stem Cell Technologies to Regen...</td>\n",
       "      <td>Review</td>\n",
       "      <td>\\n\\n      \\n      In the recent decades, cardi...</td>\n",
       "      <td>Cellular physiology and biochemistry : interna...</td>\n",
       "      <td>2019;53(1):101-120.</td>\n",
       "      <td>6</td>\n",
       "      <td>['Institute of Neurophysiology, University of ...</td>\n",
       "      <td>12</td>\n",
       "      <td>3</td>\n",
       "      <td>['Adult Germline Stem Cells / cytology*', 'Adu...</td>\n",
       "      <td>NaN</td>\n",
       "    </tr>\n",
       "    <tr>\n",
       "      <th>7801</th>\n",
       "      <td>28241890</td>\n",
       "      <td>p53 switches off pluripotency on differentiati...</td>\n",
       "      <td>Review</td>\n",
       "      <td>\\n\\n      \\n      The role of p53 as \"a guardi...</td>\n",
       "      <td>Stem cell research &amp; therapy</td>\n",
       "      <td>2017 Feb 28;8(1):44.</td>\n",
       "      <td>2</td>\n",
       "      <td>['Stem Cell Research Center, College of Bee Sc...</td>\n",
       "      <td>3</td>\n",
       "      <td>13</td>\n",
       "      <td>['Animals', 'Cell Differentiation', 'Cell', 'E...</td>\n",
       "      <td>\\n      Show all 50 references\\n</td>\n",
       "    </tr>\n",
       "    <tr>\n",
       "      <th>7802</th>\n",
       "      <td>29087220</td>\n",
       "      <td>Allogeneic stem cell transplantation as a risk...</td>\n",
       "      <td>Case Reports</td>\n",
       "      <td>NaN</td>\n",
       "      <td>Leukemia &amp; lymphoma</td>\n",
       "      <td>2018 Jul;59(7):1750-1752.</td>\n",
       "      <td>4</td>\n",
       "      <td>['a Department of Clinical Haematology , Austi...</td>\n",
       "      <td>4</td>\n",
       "      <td>NaN</td>\n",
       "      <td>['Biopsy', 'Combined Modality Therapy', 'Femal...</td>\n",
       "      <td>NaN</td>\n",
       "    </tr>\n",
       "    <tr>\n",
       "      <th>7803</th>\n",
       "      <td>16615881</td>\n",
       "      <td>The long journey from stem cells to medical pr...</td>\n",
       "      <td>Review.</td>\n",
       "      <td>\\n\\n      \\n      There is much interest in de...</td>\n",
       "      <td>Cell</td>\n",
       "      <td>2006 Apr 7;125(1):9-11.</td>\n",
       "      <td>1</td>\n",
       "      <td>['South Dartmouth, Massachusetts, USA.']</td>\n",
       "      <td>1</td>\n",
       "      <td>13</td>\n",
       "      <td>['Cell', 'Cell', 'Humans', 'Regenerative Medic...</td>\n",
       "      <td>NaN</td>\n",
       "    </tr>\n",
       "    <tr>\n",
       "      <th>7804</th>\n",
       "      <td>24759625</td>\n",
       "      <td>Novel approaches and mechanisms in hematopoiet...</td>\n",
       "      <td>Review</td>\n",
       "      <td>\\n\\n      \\n      Hematopoietic stem cell gene...</td>\n",
       "      <td>Discovery medicine</td>\n",
       "      <td>2014 Apr;17(94):207-15.</td>\n",
       "      <td>2</td>\n",
       "      <td>[\"Stem Cell and Neurotherapies, University of ...</td>\n",
       "      <td>2</td>\n",
       "      <td>2</td>\n",
       "      <td>['Genetic Therapy*', 'Genetic Vectors', 'Hemat...</td>\n",
       "      <td>NaN</td>\n",
       "    </tr>\n",
       "  </tbody>\n",
       "</table>\n",
       "</div>"
      ],
      "text/plain": [
       "      article_id                                              title  \\\n",
       "7384    31215778  Application of Stem Cell Technologies to Regen...   \n",
       "7801    28241890  p53 switches off pluripotency on differentiati...   \n",
       "7802    29087220  Allogeneic stem cell transplantation as a risk...   \n",
       "7803    16615881  The long journey from stem cells to medical pr...   \n",
       "7804    24759625  Novel approaches and mechanisms in hematopoiet...   \n",
       "\n",
       "     publication_type                                           abstract  \\\n",
       "7384           Review  \\n\\n      \\n      In the recent decades, cardi...   \n",
       "7801           Review  \\n\\n      \\n      The role of p53 as \"a guardi...   \n",
       "7802     Case Reports                                                NaN   \n",
       "7803          Review.  \\n\\n      \\n      There is much interest in de...   \n",
       "7804           Review  \\n\\n      \\n      Hematopoietic stem cell gene...   \n",
       "\n",
       "                                          journal_title  \\\n",
       "7384  Cellular physiology and biochemistry : interna...   \n",
       "7801                       Stem cell research & therapy   \n",
       "7802                                Leukemia & lymphoma   \n",
       "7803                                               Cell   \n",
       "7804                                 Discovery medicine   \n",
       "\n",
       "                       citation  n_authors  \\\n",
       "7384        2019;53(1):101-120.          6   \n",
       "7801       2017 Feb 28;8(1):44.          2   \n",
       "7802  2018 Jul;59(7):1750-1752.          4   \n",
       "7803    2006 Apr 7;125(1):9-11.          1   \n",
       "7804    2014 Apr;17(94):207-15.          2   \n",
       "\n",
       "                                           affiliations  n_affiliations  \\\n",
       "7384  ['Institute of Neurophysiology, University of ...              12   \n",
       "7801  ['Stem Cell Research Center, College of Bee Sc...               3   \n",
       "7802  ['a Department of Clinical Haematology , Austi...               4   \n",
       "7803           ['South Dartmouth, Massachusetts, USA.']               1   \n",
       "7804  [\"Stem Cell and Neurotherapies, University of ...               2   \n",
       "\n",
       "     n_citations                                           keywords  \\\n",
       "7384           3  ['Adult Germline Stem Cells / cytology*', 'Adu...   \n",
       "7801          13  ['Animals', 'Cell Differentiation', 'Cell', 'E...   \n",
       "7802         NaN  ['Biopsy', 'Combined Modality Therapy', 'Femal...   \n",
       "7803          13  ['Cell', 'Cell', 'Humans', 'Regenerative Medic...   \n",
       "7804           2  ['Genetic Therapy*', 'Genetic Vectors', 'Hemat...   \n",
       "\n",
       "                              n_references  \n",
       "7384                                   NaN  \n",
       "7801  \\n      Show all 50 references\\n      \n",
       "7802                                   NaN  \n",
       "7803                                   NaN  \n",
       "7804                                   NaN  "
      ]
     },
     "execution_count": 6,
     "metadata": {},
     "output_type": "execute_result"
    }
   ],
   "source": [
    "# Duplicates\n",
    "print(\"Number of duplicated rows =\", df.duplicated().sum())\n",
    "df[df.duplicated()]"
   ]
  },
  {
   "cell_type": "code",
   "execution_count": 7,
   "metadata": {
    "scrolled": true
   },
   "outputs": [
    {
     "data": {
      "text/plain": [
       "7381    31215778\n",
       "7384    31215778\n",
       "7797    28241890\n",
       "7798    16615881\n",
       "7799    29087220\n",
       "7800    24759625\n",
       "7801    28241890\n",
       "7802    29087220\n",
       "7803    16615881\n",
       "7804    24759625\n",
       "Name: article_id, dtype: int64"
      ]
     },
     "execution_count": 7,
     "metadata": {},
     "output_type": "execute_result"
    }
   ],
   "source": [
    "df[df['article_id'].isin(df[df.duplicated()]['article_id'].tolist())]['article_id']"
   ]
  },
  {
   "cell_type": "code",
   "execution_count": 8,
   "metadata": {
    "scrolled": true
   },
   "outputs": [
    {
     "data": {
      "text/plain": [
       "article_id             0\n",
       "title                  0\n",
       "publication_type     119\n",
       "abstract            1034\n",
       "journal_title          0\n",
       "citation               0\n",
       "n_authors              0\n",
       "affiliations           0\n",
       "n_affiliations         0\n",
       "n_citations         1925\n",
       "keywords               0\n",
       "n_references        6958\n",
       "dtype: int64"
      ]
     },
     "execution_count": 8,
     "metadata": {},
     "output_type": "execute_result"
    }
   ],
   "source": [
    "# NaN values\n",
    "df.isna().sum()"
   ]
  },
  {
   "cell_type": "markdown",
   "metadata": {
    "id": "41Wh5QHNdlDa"
   },
   "source": [
    "#### Observations and action plan:\n",
    "\n",
    "*Shape:* \n",
    "\n",
    "- Dataset has 9926 rows and 12 columns. Each columns holds information about an article that a user can find in PubMed:\n",
    "    - `article_id`: PubMed ID for the article\n",
    "    - `title`: article's title\n",
    "    - `publication_type`: the type of publication *(some missing info)*\n",
    "    - `abstract`: the article's abstract *(some missing info)*\n",
    "    - `journal_title`: the title of the journal the article was published in\n",
    "    - `citation`: citation key with information about the publication year\n",
    "    - `n_authors`: number of authors\n",
    "    - `affiliations`: author affiliations (universities, company, country, etc)\n",
    "    - `n_affiliations`: the number of affiliations associated with the article\n",
    "    - `n_citations`: the number of times the publication was cited *(some missing info)*\n",
    "    - `keywords`: keywords linked to publication by PubMed\n",
    "    - `n_references`: the number of references used in the publication\n",
    "\n",
    "*Duplicates:*\n",
    "\n",
    "- There are 5 duplicated rows. Based on the index number, they seem to have appeared multiple times in the search results. For now I will remove these rows so they are not double counted for the purpose of understanding the topics discussed in the field of 'stem cell therapy'. \n",
    "\n",
    "*Null Values:*\n",
    "\n",
    "- `n_references`: lots of NaN values, impute some kind of 'average' (no publication would be published without references)\n",
    "- `publication_type`: some NaN values, can impute `Uncategorized`\n",
    "- `abstract`: some NaNs, can impute `Unavailable`\n",
    "- `n_citations`: fill in null with 0, assuming these articles were not cited and change type to `int64`\n",
    "\n",
    "*Others:*\n",
    "\n",
    "- `publication year`: to be extracted from `citation`\n",
    "- `title`: one hot encode? / NLP\n",
    "- `journal_title`: one hot encode? / NLP\n",
    "- `affiliations`: extract affiliated country \n",
    "- `keywords`: check for empty lists in keywords\n",
    "- `result_order`: location of article in the query result to be extracted from index"
   ]
  },
  {
   "cell_type": "markdown",
   "metadata": {},
   "source": [
    "##### Drop Duplicates"
   ]
  },
  {
   "cell_type": "code",
   "execution_count": 9,
   "metadata": {
    "id": "Tg6SDQ3ecc2_"
   },
   "outputs": [],
   "source": [
    "# Drop duplicated rows\n",
    "df.drop_duplicates(inplace=True)"
   ]
  },
  {
   "cell_type": "markdown",
   "metadata": {},
   "source": [
    "##### Add result_order"
   ]
  },
  {
   "cell_type": "code",
   "execution_count": 10,
   "metadata": {},
   "outputs": [],
   "source": [
    "# Add result_order\n",
    "df['result_order'] = np.arange(1, len(df)+1)"
   ]
  },
  {
   "cell_type": "markdown",
   "metadata": {},
   "source": [
    "##### `publication_type`"
   ]
  },
  {
   "cell_type": "code",
   "execution_count": 11,
   "metadata": {
    "scrolled": true
   },
   "outputs": [
    {
     "data": {
      "text/plain": [
       "Review                         8457\n",
       "Clinical Trial                  417\n",
       "Editorial                       292\n",
       "Case Reports                    204\n",
       "Comment                         140\n",
       "Comparative Study               133\n",
       "Uncategorized                   119\n",
       "Randomized Controlled Trial      74\n",
       "Meta-Analysis                    43\n",
       "Published Erratum                20\n",
       "Multicenter Study                 5\n",
       "Controlled Clinical Trial         5\n",
       "Guideline                         4\n",
       "Practice Guideline                4\n",
       "Observational Study               3\n",
       "Retraction of Publication         1\n",
       "Name: publication_type, dtype: int64"
      ]
     },
     "execution_count": 11,
     "metadata": {},
     "output_type": "execute_result"
    }
   ],
   "source": [
    "# Impute into null publication type\n",
    "df['publication_type'] = df['publication_type'].fillna('Uncategorized')\n",
    "# Remove tailing '.'\n",
    "df['publication_type'] = df['publication_type'].apply(lambda x: x.rstrip('.'))\n",
    "# Look at unique publication types\n",
    "df['publication_type'].value_counts()"
   ]
  },
  {
   "cell_type": "markdown",
   "metadata": {},
   "source": [
    "Out of 9000+ publications there are 16 publication types. Over 90% of the publications in the query result are Reviews."
   ]
  },
  {
   "cell_type": "markdown",
   "metadata": {},
   "source": [
    "##### `pub_year` from `citation`"
   ]
  },
  {
   "cell_type": "code",
   "execution_count": 12,
   "metadata": {
    "scrolled": true
   },
   "outputs": [],
   "source": [
    "# Get publication year from citation\n",
    "df['pub_year'] = df['citation'].apply(lambda x: re.findall('[1-2][0-9][0-9][0-9]', x)[0]).astype('int64')\n",
    "# Drop citation\n",
    "df.drop('citation', axis=1, inplace=True)"
   ]
  },
  {
   "cell_type": "code",
   "execution_count": 13,
   "metadata": {},
   "outputs": [
    {
     "data": {
      "image/png": "[encoded data removed]",
      "text/plain": [
       "<Figure size 720x360 with 1 Axes>"
      ]
     },
     "metadata": {
      "needs_background": "light"
     },
     "output_type": "display_data"
    }
   ],
   "source": [
    "# Group by each year and count the number of publications\n",
    "years = df.groupby('pub_year').agg('count')['title'].index\n",
    "n_pubs = df.groupby('pub_year').agg('count')['title'].values\n",
    "\n",
    "# Plot the results\n",
    "plt.figure(figsize=(10,5))\n",
    "plt.plot(years, n_pubs, marker='.')\n",
    "plt.xticks(fontsize=18)\n",
    "plt.ylabel('Number of publications', fontsize=18)\n",
    "plt.title('Number of Publications By Year', fontsize=18)\n",
    "plt.yticks(fontsize=18)\n",
    "plt.show()"
   ]
  },
  {
   "cell_type": "code",
   "execution_count": 14,
   "metadata": {},
   "outputs": [
    {
     "data": {
      "text/plain": [
       "1974"
      ]
     },
     "execution_count": 14,
     "metadata": {},
     "output_type": "execute_result"
    }
   ],
   "source": [
    "# Earliest publication year in results\n",
    "df['pub_year'].min()"
   ]
  },
  {
   "cell_type": "code",
   "execution_count": 15,
   "metadata": {},
   "outputs": [
    {
     "data": {
      "text/plain": [
       "2021"
      ]
     },
     "execution_count": 15,
     "metadata": {},
     "output_type": "execute_result"
    }
   ],
   "source": [
    "# Latest publication year in results\n",
    "df['pub_year'].max()"
   ]
  },
  {
   "cell_type": "markdown",
   "metadata": {},
   "source": [
    "The query results span from 1974 to 2021. The number of publications published annually stayed quite constant from 1974 to the mid 90's. From 2000 we start to see an explosion of publications up to around 2020. This makes sense as 1999 was [a breakthrough year for stem cell research](https://www.sciencemag.org/news/1999/12/stem-cells-named-breakthrough-year). In 2006, the controversy around stem cells having to be derived from fetuses was put to rest with [Dr. Shinya Yamanaka](https://www.nobelprize.org/prizes/medicine/2012/yamanaka/facts/) discovering a way to create stem cells from adult cells (we can now scrape some skin from your cheeks and artifically turn them back into your stem cells!). This discovery fueled the stem cell research frenzy even more. There is a sharp dip in 2021, which I believe is due to this data being scraped in July, 2021. "
   ]
  },
  {
   "cell_type": "markdown",
   "metadata": {},
   "source": [
    "##### `n_references`"
   ]
  },
  {
   "cell_type": "code",
   "execution_count": 16,
   "metadata": {},
   "outputs": [],
   "source": [
    "# Extract nunmber of references from non-null articles\n",
    "n_ref = df[~df['n_references'].isna()]['n_references'].apply(lambda x: re.findall('[0-9]?[0-9][0-9]', x))\n",
    "\n",
    "# Simple function to return contents of the list in n_ref\n",
    "def clean_nref(x):\n",
    "    if len(x) != 0:\n",
    "        return x[0]\n",
    "    else:\n",
    "        return None\n",
    "\n",
    "# Get index numbers of rows to edit    \n",
    "idx_to_edit = df[~df['n_references'].isna()]['n_references'].index\n",
    "# \n",
    "df.loc[idx_to_edit, 'n_references'] = df[~df['n_references'].isna()]['n_references'].apply(lambda x: re.findall('[0-9]?[0-9][0-9]', x)).apply(clean_nref)"
   ]
  },
  {
   "cell_type": "code",
   "execution_count": 17,
   "metadata": {},
   "outputs": [
    {
     "data": {
      "text/plain": [
       "0.2990625944965225"
      ]
     },
     "execution_count": 17,
     "metadata": {},
     "output_type": "execute_result"
    }
   ],
   "source": [
    "# Proportion of rows with n_ref information\n",
    "len(idx_to_edit)/df.shape[0]"
   ]
  },
  {
   "cell_type": "markdown",
   "metadata": {},
   "source": [
    "Only 30% of the articles have information about the number of references used, this value will be imputed after train/test split for any regression/classification models."
   ]
  },
  {
   "cell_type": "markdown",
   "metadata": {},
   "source": [
    "##### `keywords`"
   ]
  },
  {
   "cell_type": "code",
   "execution_count": 18,
   "metadata": {},
   "outputs": [],
   "source": [
    "# Make each keyword column into clean line of words\n",
    "df['keywords'] = df['keywords'].apply(lambda x: x.translate(str.maketrans(' ', ' ', puncs)).lower())\n",
    "# Get the number of keywords\n",
    "df['n_keywords'] = df['keywords'].apply(lambda x: len(x.split(' ')))"
   ]
  },
  {
   "cell_type": "code",
   "execution_count": 19,
   "metadata": {
    "scrolled": true
   },
   "outputs": [
    {
     "data": {
      "text/plain": [
       "0.18143332325370426"
      ]
     },
     "execution_count": 19,
     "metadata": {},
     "output_type": "execute_result"
    }
   ],
   "source": [
    "# Empty keywords still exist\n",
    "df[df['keywords']==''].shape[0]/df.shape[0]"
   ]
  },
  {
   "cell_type": "markdown",
   "metadata": {},
   "source": [
    "About 18% of the rows do not have keywords associated to them. I will change the keyword count to 0 and impute 'none'."
   ]
  },
  {
   "cell_type": "code",
   "execution_count": 20,
   "metadata": {},
   "outputs": [
    {
     "data": {
      "text/plain": [
       "array([''], dtype=object)"
      ]
     },
     "execution_count": 20,
     "metadata": {},
     "output_type": "execute_result"
    }
   ],
   "source": [
    "# Empty [] were counted as 1\n",
    "df[df['n_keywords']==1]['keywords'].unique()"
   ]
  },
  {
   "cell_type": "code",
   "execution_count": 21,
   "metadata": {},
   "outputs": [],
   "source": [
    "# Change the count to 0\n",
    "df['n_keywords'] = np.where(df['n_keywords']==1, 0, df['n_keywords'])\n",
    "# Fill empty 'keywords' with none\n",
    "df['keywords'] = np.where(df['keywords']=='', 'none', df['keywords'])"
   ]
  },
  {
   "cell_type": "markdown",
   "metadata": {},
   "source": [
    "##### `abstract`"
   ]
  },
  {
   "cell_type": "code",
   "execution_count": 22,
   "metadata": {
    "scrolled": true
   },
   "outputs": [
    {
     "data": {
      "text/plain": [
       "array(['\\n\\n      \\n      Cell replacement and restorative therapies have great perspectives in the treatment of various diseases and traumas. Various types of stem cells, most different in the biological properties, are evaluated as the potential substrates of cell therapy for such diseases. Mesenchymal stem cells (MSC) posses relatively high proliferative activity and high level of plasticity, and can be differentiated not only to the cells of the mesenchymal lineage, but also to the neurons. Among the MSC populations, a population of endometrial stem cells, including that present in the menstrual blood, is available most readily. In the current study, we analyze biological properties of the menstrual blood stem cells and evaluate those cells as a potential substrate of cell therapy.\\n    \\n',\n",
       "       '\\n\\n      \\n      Stem cell therapy may rely on delivery and homing through the vascular system to reach the target tissue. An optical tweezer model has been employed to exert different levels of shear stress on a single non-adherent human bone marrow-derived mesenchymal stem cell to simulate physiological flow conditions. A single-cell quantitative polymerase chain reaction analysis showed that collagen type 1, alpha 2 (COL1A2), heat shock 70-kDa protein 1A (HSPA1A) and osteopontin (OPN) are expressed to a detectable level in most of the cells. After exposure to varying levels of shear stress, there were significant variations in gene transcription levels across human mesenchymal stem cells derived from four individual donors. Significant trend towards upregulation of COL1A2 and OPN gene expression following shear was observed in some donors with corresponding variations in HSPA1A gene expression. The results indicate that shear stress associated with vascular flow may have the potential to significantly direct non-adherent stem cell expression towards osteogenic phenotypic expression. However, our results demonstrate that these results are influenced by the selection process and donor variability.\\n    \\n',\n",
       "       '\\n\\n      \\n      In normal mitosis, the two daughter cells are identical to each other. However, in the case of duplication mitosis of the non-matureable cancerous stem cell, the two daughter stem cells must be non-visually, but certainly different from each other in order to allow for the characteristic type of cancerous cell turnover development. One of these daughter stem cells is matureable and normally activated by the maturation factor, then undergoes maturation mitosis and finally passes through its lifespan. However, the other daughter stem cell is non-matureable and not activated by the maturation factor. It undergoes the original mitosis again, reproducing two daughter stem cells that differ from each other: te above matureable cell and the original non-matureable cell (Fig.). Such a hetero-duplication type of mitosis is peculiar to carcinoma and responsible for the oncogenesis. The origin of this mitosis is most probably an unequal division of a mitotic maturation promoting system (MMPS) at the mitotic phase, and may be dependent on some abnormal supplement of the MMPS. Thus, therapy aimed at the complete eradication of cancer should focus on removal of this supplement from the cancerous cell.\\n    \\n'],\n",
       "      dtype=object)"
      ]
     },
     "execution_count": 22,
     "metadata": {},
     "output_type": "execute_result"
    }
   ],
   "source": [
    "# Take a look at a few samples\n",
    "df['abstract'].sample(3).values"
   ]
  },
  {
   "cell_type": "markdown",
   "metadata": {},
   "source": [
    "When there is an abstract, it begins with new lines and white spaces and ends with some new lines and white spaces. There are also some punctuations used throughout. I will remove these and make all the letters lower case. For publications with no abstract available, I will impute the string 'Unavailable'."
   ]
  },
  {
   "cell_type": "code",
   "execution_count": 23,
   "metadata": {},
   "outputs": [],
   "source": [
    "# Remove whitespace and new lines\n",
    "df['abstract'] = df['abstract'].str.replace('\\s\\s+', ' ')\n",
    "\n",
    "# Fill empty 'abstract' with unavailable\n",
    "idx_to_edit = df[df['abstract'].isna()].index\n",
    "df.loc[idx_to_edit, 'abstract'] = 'Unavailable'\n",
    "\n",
    "# Remove punctuations\n",
    "df['abstract'] = df['abstract'].apply(lambda x: x.translate(str.maketrans(' ', ' ', puncs)).lower())\n",
    "# Remove leading ' '\n",
    "df['abstract'] = df['abstract'].apply(lambda x: x.lstrip(' '))\n",
    "# Get word count\n",
    "df['abstract_wc'] = df['abstract'].apply(lambda x: len(x.split(' ')))"
   ]
  },
  {
   "cell_type": "markdown",
   "metadata": {},
   "source": [
    "##### `title`"
   ]
  },
  {
   "cell_type": "markdown",
   "metadata": {},
   "source": [
    "From the sample above I see that I need to remove the right trailing ' - PubMed' and punctuations. "
   ]
  },
  {
   "cell_type": "code",
   "execution_count": 24,
   "metadata": {},
   "outputs": [],
   "source": [
    "# Remove ' - PubMed'\n",
    "df['title'] = df['title'].apply(lambda x: x.rstrip(' - PubMed'))\n",
    "# Clean 'abstract'\n",
    "df['title'] = df['title'].apply(lambda x: x.translate(str.maketrans('', '', puncs)).lower())\n",
    "# Get title word counts\n",
    "df['title_wc'] = df['title'].apply(lambda x: len(x.split(' ')))"
   ]
  },
  {
   "cell_type": "markdown",
   "metadata": {},
   "source": [
    "##### `affiliations`"
   ]
  },
  {
   "cell_type": "code",
   "execution_count": 25,
   "metadata": {
    "scrolled": false
   },
   "outputs": [
    {
     "data": {
      "text/plain": [
       "array([\"['Department of Cardiology, Internal Medical Clinic III, University of Heidelberg, Germany. thomas.dengler@urz.uni-heidelberg.de']\",\n",
       "       '[\"aDepartment of Surgery, The Second Affiliated Hospital, Xi\\'an Jiaotong University bDepartment of Otolaryngology, The Fourth People\\'s Hospital of Shaanxi Province cDepartment of Otolaryngology, Xijing Hospital, Fourth Military Medical University dDepartment of Otolaryngology, Shaanxi Provincial People\\'s Hospital, Xi\\'an, Shaanxi, People\\'s Republic of China.\"]',\n",
       "       \"['Department of Urology, Peking University Third Hospital, Beijing 100191, China.', 'Department of Reproductive Medicine Center, Peking University Third Hospital, Beijing 100191, China.', 'Department of Andrology, Peking University Third Hospital, Beijing 100191, China.', 'Department of Urology, Peking University Third Hospital, Beijing 100191, China.', 'Department of Reproductive Medicine Center, Peking University Third Hospital, Beijing 100191, China.', 'Department of Andrology, Peking University Third Hospital, Beijing 100191, China.', 'Department of Human Sperm Bank, Peking University Third Hospital, Beijing 100191, China.', 'Department of Urology, Peking University Third Hospital, Beijing 100191, China.', 'Department of Reproductive Medicine Center, Peking University Third Hospital, Beijing 100191, China.', 'Department of Andrology, Peking University Third Hospital, Beijing 100191, China.', 'Department of Reproductive Medicine Center, Peking University Third Hospital, Beijing 100191, China.', 'Department of Andrology, Peking University Third Hospital, Beijing 100191, China.', 'Department of Reproductive Medicine Center, Peking University Third Hospital, Beijing 100191, China.', 'Department of Andrology, Peking University Third Hospital, Beijing 100191, China.', 'Department of Human Sperm Bank, Peking University Third Hospital, Beijing 100191, China.', 'Department of Urology, Peking University Third Hospital, Beijing 100191, China.', 'Department of Reproductive Medicine Center, Peking University Third Hospital, Beijing 100191, China.', 'Department of Andrology, Peking University Third Hospital, Beijing 100191, China.', 'Department of Urology, Peking University Third Hospital, Beijing 100191, China.', 'Department of Reproductive Medicine Center, Peking University Third Hospital, Beijing 100191, China.', 'Department of Andrology, Peking University Third Hospital, Beijing 100191, China.', 'Department of Urology, Peking University Third Hospital, Beijing 100191, China.', 'Department of Reproductive Medicine Center, Peking University Third Hospital, Beijing 100191, China.', 'Department of Andrology, Peking University Third Hospital, Beijing 100191, China.', 'Department of Urology, Peking University Third Hospital, Beijing 100191, China.', 'Department of Reproductive Medicine Center, Peking University Third Hospital, Beijing 100191, China.', 'Department of Andrology, Peking University Third Hospital, Beijing 100191, China.', 'Department of Urology, Peking University Third Hospital, Beijing 100191, China.', 'Department of Reproductive Medicine Center, Peking University Third Hospital, Beijing 100191, China.', 'Department of Andrology, Peking University Third Hospital, Beijing 100191, China.', 'Department of Human Sperm Bank, Peking University Third Hospital, Beijing 100191, China.']\",\n",
       "       '[\"Division of Cardiology, Brigham and Women\\'s Hospital, Boston, Massachusetts, USA.\"]'],\n",
       "      dtype=object)"
      ]
     },
     "execution_count": 25,
     "metadata": {},
     "output_type": "execute_result"
    }
   ],
   "source": [
    "# Take a look at a sample\n",
    "df['affiliations'].sample(4).values"
   ]
  },
  {
   "cell_type": "markdown",
   "metadata": {},
   "source": [
    "The affiliations is a big block of ugly string. The simplest thing I can do is to extract the unique countries within the block of text."
   ]
  },
  {
   "cell_type": "code",
   "execution_count": 26,
   "metadata": {},
   "outputs": [],
   "source": [
    "# List of countries from https://gist.github.com/kalinchernev/486393efcca01623b18d\n",
    "countries = open('countries').read().split('\\n')\n",
    "countries.append('USA') # lots of affiliations use USA instead of United States of America\n",
    "countries.append('España') # some publications are in a foreign language"
   ]
  },
  {
   "cell_type": "code",
   "execution_count": 27,
   "metadata": {},
   "outputs": [],
   "source": [
    "# Clean up affiliations\n",
    "df['affiliations'] = df['affiliations'].apply(lambda x: x.translate(str.maketrans(' ', ' ', puncs)))\n",
    "# Make a list of each affiliation\n",
    "df['affiliations'] = df['affiliations'].str.split(' ')\n",
    "# Extract name of country if it exists in the countries list\n",
    "df['affiliations'] = df['affiliations'].apply(lambda x: [country for country in countries if country in x])"
   ]
  },
  {
   "cell_type": "code",
   "execution_count": 28,
   "metadata": {
    "scrolled": true
   },
   "outputs": [
    {
     "data": {
      "text/plain": [
       "0       [Switzerland]\n",
       "1            [Poland]\n",
       "2           [Germany]\n",
       "3              [Iran]\n",
       "4            [Turkey]\n",
       "            ...      \n",
       "9921            [USA]\n",
       "9922            [USA]\n",
       "9923            [USA]\n",
       "9924            [USA]\n",
       "9925          [China]\n",
       "Name: affiliations, Length: 9921, dtype: object"
      ]
     },
     "execution_count": 28,
     "metadata": {},
     "output_type": "execute_result"
    }
   ],
   "source": [
    "# Take a look\n",
    "df['affiliations']"
   ]
  },
  {
   "cell_type": "code",
   "execution_count": 29,
   "metadata": {},
   "outputs": [],
   "source": [
    "# The number of countries affiliated to the article\n",
    "df['n_countries'] = df['affiliations'].apply(lambda x: len(x))\n",
    "\n",
    "# Simple function to return contents of the list in affiliations\n",
    "def clean_country(x):\n",
    "    if len(x) != 0:\n",
    "        return ' '.join(x)\n",
    "    else:\n",
    "        return None\n",
    "\n",
    "# Create countries column to count vectorize\n",
    "df['affiliations'] = df['affiliations'].apply(clean_nref)"
   ]
  },
  {
   "cell_type": "code",
   "execution_count": 30,
   "metadata": {},
   "outputs": [
    {
     "data": {
      "text/plain": [
       "0.24937002318314686"
      ]
     },
     "execution_count": 30,
     "metadata": {},
     "output_type": "execute_result"
    }
   ],
   "source": [
    "# How many rows are empty?\n",
    "df['affiliations'].isna().sum()/df.shape[0]"
   ]
  },
  {
   "cell_type": "markdown",
   "metadata": {},
   "source": [
    "About 25% of the countries are missing a value."
   ]
  },
  {
   "cell_type": "code",
   "execution_count": 31,
   "metadata": {},
   "outputs": [],
   "source": [
    "# Fill na with 'Unknown'\n",
    "df['affiliations'].fillna('Unknown', inplace=True)"
   ]
  },
  {
   "cell_type": "code",
   "execution_count": 32,
   "metadata": {},
   "outputs": [],
   "source": [
    "# Fill in null values with 1 (at least one affiliation)\n",
    "df['n_affiliations'] = df['n_affiliations'].fillna(1)"
   ]
  },
  {
   "cell_type": "code",
   "execution_count": 33,
   "metadata": {},
   "outputs": [
    {
     "data": {
      "text/plain": [
       "Unknown       2474\n",
       "USA           1681\n",
       "China         1348\n",
       "Japan          544\n",
       "Germany        393\n",
       "              ... \n",
       "Azerbaijan       1\n",
       "Venezuela        1\n",
       "Ethiopia         1\n",
       "Kuwait           1\n",
       "Estonia          1\n",
       "Name: affiliations, Length: 80, dtype: int64"
      ]
     },
     "execution_count": 33,
     "metadata": {},
     "output_type": "execute_result"
    }
   ],
   "source": [
    "df['affiliations'].value_counts()"
   ]
  },
  {
   "cell_type": "markdown",
   "metadata": {},
   "source": [
    "We could not extract the country/countries that a publication is affiliated with for 2000+ publications. From those that we could, we see that the top publishers are affiliated with the USA and China, followed by Japan and Germany. In the future, it would be great if I can make the list of countries more comprehensive."
   ]
  },
  {
   "cell_type": "markdown",
   "metadata": {},
   "source": [
    "##### `n_citations`"
   ]
  },
  {
   "cell_type": "code",
   "execution_count": 34,
   "metadata": {},
   "outputs": [
    {
     "data": {
      "text/plain": [
       "count     7997\n",
       "unique     184\n",
       "top          1\n",
       "freq      1075\n",
       "Name: n_citations, dtype: object"
      ]
     },
     "execution_count": 34,
     "metadata": {},
     "output_type": "execute_result"
    }
   ],
   "source": [
    "df['n_citations'].describe()"
   ]
  },
  {
   "cell_type": "markdown",
   "metadata": {},
   "source": [
    "Not all citations that are filled are integers. I will impute the missing values with 0 assuming that the publications do not have citations, remove any punctuation and make sure the type is integer."
   ]
  },
  {
   "cell_type": "code",
   "execution_count": 35,
   "metadata": {},
   "outputs": [],
   "source": [
    "# Fill null citations with 0\n",
    "df['n_citations'] = df['n_citations'].fillna(0)\n",
    "# Make citations string\n",
    "df['n_citations'] = df['n_citations'].astype('str')\n",
    "# Remove punctuations\n",
    "df['n_citations'] = df['n_citations'].apply(lambda x: x.translate(str.maketrans(' ', ' ', puncs)))\n",
    "# Make sure type is integer\n",
    "df['n_citations'] = df['n_citations'].astype('int64')"
   ]
  },
  {
   "cell_type": "code",
   "execution_count": 36,
   "metadata": {},
   "outputs": [
    {
     "data": {
      "text/plain": [
       "count    9921.000000\n",
       "mean       12.432214\n",
       "std        58.616713\n",
       "min         0.000000\n",
       "25%         1.000000\n",
       "50%         4.000000\n",
       "75%        12.000000\n",
       "max      5072.000000\n",
       "Name: n_citations, dtype: float64"
      ]
     },
     "execution_count": 36,
     "metadata": {},
     "output_type": "execute_result"
    }
   ],
   "source": [
    "df['n_citations'].describe()"
   ]
  },
  {
   "cell_type": "markdown",
   "metadata": {},
   "source": [
    "Based on the distribution of citations, it seems less than 25% of the publications were missing the number of citations. 75% of the publications have less than 12 citations, while the upper limit for this number is 5072. "
   ]
  },
  {
   "cell_type": "code",
   "execution_count": 37,
   "metadata": {
    "scrolled": false
   },
   "outputs": [
    {
     "data": {
      "text/html": [
       "<div>\n",
       "<style scoped>\n",
       "    .dataframe tbody tr th:only-of-type {\n",
       "        vertical-align: middle;\n",
       "    }\n",
       "\n",
       "    .dataframe tbody tr th {\n",
       "        vertical-align: top;\n",
       "    }\n",
       "\n",
       "    .dataframe thead th {\n",
       "        text-align: right;\n",
       "    }\n",
       "</style>\n",
       "<table border=\"1\" class=\"dataframe\">\n",
       "  <thead>\n",
       "    <tr style=\"text-align: right;\">\n",
       "      <th></th>\n",
       "      <th>article_id</th>\n",
       "      <th>title</th>\n",
       "      <th>publication_type</th>\n",
       "      <th>abstract</th>\n",
       "      <th>journal_title</th>\n",
       "      <th>n_authors</th>\n",
       "      <th>affiliations</th>\n",
       "      <th>n_affiliations</th>\n",
       "      <th>n_citations</th>\n",
       "      <th>keywords</th>\n",
       "      <th>n_references</th>\n",
       "      <th>result_order</th>\n",
       "      <th>pub_year</th>\n",
       "      <th>n_keywords</th>\n",
       "      <th>abstract_wc</th>\n",
       "      <th>title_wc</th>\n",
       "      <th>n_countries</th>\n",
       "    </tr>\n",
       "  </thead>\n",
       "  <tbody>\n",
       "    <tr>\n",
       "      <th>4485</th>\n",
       "      <td>28713990</td>\n",
       "      <td>inhibition of p38mapk potentiates mesenchymal ...</td>\n",
       "      <td>Review</td>\n",
       "      <td>the present study aimed to investigate the pro...</td>\n",
       "      <td>Molecular medicine reports</td>\n",
       "      <td>4</td>\n",
       "      <td>China</td>\n",
       "      <td>4</td>\n",
       "      <td>4</td>\n",
       "      <td>animals apoptosis cardiotonic agents  metaboli...</td>\n",
       "      <td>NaN</td>\n",
       "      <td>4486</td>\n",
       "      <td>2017</td>\n",
       "      <td>47</td>\n",
       "      <td>226</td>\n",
       "      <td>14</td>\n",
       "      <td>1</td>\n",
       "    </tr>\n",
       "    <tr>\n",
       "      <th>6822</th>\n",
       "      <td>28807014</td>\n",
       "      <td>epigenetic reprogramming converts human wharto...</td>\n",
       "      <td>Review</td>\n",
       "      <td>background lineage commitment of mesenchymal s...</td>\n",
       "      <td>Stem cell research &amp; therapy</td>\n",
       "      <td>5</td>\n",
       "      <td>Australia</td>\n",
       "      <td>13</td>\n",
       "      <td>8</td>\n",
       "      <td>adaptor proteins animals base sequence calcium...</td>\n",
       "      <td>61</td>\n",
       "      <td>6823</td>\n",
       "      <td>2017</td>\n",
       "      <td>83</td>\n",
       "      <td>277</td>\n",
       "      <td>18</td>\n",
       "      <td>4</td>\n",
       "    </tr>\n",
       "    <tr>\n",
       "      <th>7933</th>\n",
       "      <td>18769371</td>\n",
       "      <td>transplantation therapy for parkinson disease ...</td>\n",
       "      <td>Editorial</td>\n",
       "      <td>unavailable</td>\n",
       "      <td>Nature clinical practice. Neurology</td>\n",
       "      <td>1</td>\n",
       "      <td>Unknown</td>\n",
       "      <td>0</td>\n",
       "      <td>1</td>\n",
       "      <td>animals humans parkinson disease  pathology pa...</td>\n",
       "      <td>NaN</td>\n",
       "      <td>7929</td>\n",
       "      <td>2008</td>\n",
       "      <td>31</td>\n",
       "      <td>1</td>\n",
       "      <td>12</td>\n",
       "      <td>0</td>\n",
       "    </tr>\n",
       "    <tr>\n",
       "      <th>7754</th>\n",
       "      <td>30089748</td>\n",
       "      <td>therapyrelated myelodysplastic syndrome after ...</td>\n",
       "      <td>Case Reports</td>\n",
       "      <td>unavailable</td>\n",
       "      <td>Journal of clinical and experimental hematopat...</td>\n",
       "      <td>5</td>\n",
       "      <td>Japan</td>\n",
       "      <td>5</td>\n",
       "      <td>0</td>\n",
       "      <td>autografts female hematopoietic stem cell mobi...</td>\n",
       "      <td>12</td>\n",
       "      <td>7754</td>\n",
       "      <td>2018</td>\n",
       "      <td>36</td>\n",
       "      <td>1</td>\n",
       "      <td>20</td>\n",
       "      <td>1</td>\n",
       "    </tr>\n",
       "    <tr>\n",
       "      <th>944</th>\n",
       "      <td>28618324</td>\n",
       "      <td>stem cells an emerging novel therapeutic for t...</td>\n",
       "      <td>Review</td>\n",
       "      <td>stem cell based strategies are therapeutically...</td>\n",
       "      <td>Diabetes research and clinical practice</td>\n",
       "      <td>3</td>\n",
       "      <td>India</td>\n",
       "      <td>3</td>\n",
       "      <td>1</td>\n",
       "      <td>animals autoimmunity diabetes mellitus diabete...</td>\n",
       "      <td>NaN</td>\n",
       "      <td>945</td>\n",
       "      <td>2017</td>\n",
       "      <td>17</td>\n",
       "      <td>51</td>\n",
       "      <td>10</td>\n",
       "      <td>1</td>\n",
       "    </tr>\n",
       "    <tr>\n",
       "      <th>4503</th>\n",
       "      <td>26086962</td>\n",
       "      <td>neural stem cell transplantation at critical p...</td>\n",
       "      <td>Review</td>\n",
       "      <td>alzheimers disease ad is characterized by neur...</td>\n",
       "      <td>Cell death &amp; disease</td>\n",
       "      <td>8</td>\n",
       "      <td>Unknown</td>\n",
       "      <td>8</td>\n",
       "      <td>16</td>\n",
       "      <td>alzheimer disease  therapy amyloid beta animal...</td>\n",
       "      <td>48</td>\n",
       "      <td>4504</td>\n",
       "      <td>2015</td>\n",
       "      <td>50</td>\n",
       "      <td>156</td>\n",
       "      <td>20</td>\n",
       "      <td>0</td>\n",
       "    </tr>\n",
       "    <tr>\n",
       "      <th>4912</th>\n",
       "      <td>21547696</td>\n",
       "      <td>isolation of oct4 nanog and sox2 mesenchymal c...</td>\n",
       "      <td>Review</td>\n",
       "      <td>diabetes mellitus is a chronic metabolic disor...</td>\n",
       "      <td>Human cell</td>\n",
       "      <td>2</td>\n",
       "      <td>India</td>\n",
       "      <td>1</td>\n",
       "      <td>3</td>\n",
       "      <td>adult antigens biomarkers  analysis cd13 antig...</td>\n",
       "      <td>None</td>\n",
       "      <td>4913</td>\n",
       "      <td>2011</td>\n",
       "      <td>60</td>\n",
       "      <td>228</td>\n",
       "      <td>16</td>\n",
       "      <td>1</td>\n",
       "    </tr>\n",
       "    <tr>\n",
       "      <th>3594</th>\n",
       "      <td>33169563</td>\n",
       "      <td>mesenchymal stem cells in the treatment of cov...</td>\n",
       "      <td>Review</td>\n",
       "      <td>at present sarscov2 is raging and novel corona...</td>\n",
       "      <td>Sheng wu gong cheng xue bao = Chinese journal ...</td>\n",
       "      <td>3</td>\n",
       "      <td>China</td>\n",
       "      <td>6</td>\n",
       "      <td>1</td>\n",
       "      <td>betacoronavirus covid clinical trials as topic...</td>\n",
       "      <td>NaN</td>\n",
       "      <td>3595</td>\n",
       "      <td>2020</td>\n",
       "      <td>23</td>\n",
       "      <td>202</td>\n",
       "      <td>10</td>\n",
       "      <td>1</td>\n",
       "    </tr>\n",
       "    <tr>\n",
       "      <th>919</th>\n",
       "      <td>33426232</td>\n",
       "      <td>stem cell therapy for osteonecrosis of femoral...</td>\n",
       "      <td>Review</td>\n",
       "      <td>osteonecrosis of the femoral head onfh is a pr...</td>\n",
       "      <td>Regenerative therapy</td>\n",
       "      <td>6</td>\n",
       "      <td>China</td>\n",
       "      <td>11</td>\n",
       "      <td>0</td>\n",
       "      <td>none</td>\n",
       "      <td>91</td>\n",
       "      <td>920</td>\n",
       "      <td>2020</td>\n",
       "      <td>0</td>\n",
       "      <td>239</td>\n",
       "      <td>11</td>\n",
       "      <td>1</td>\n",
       "    </tr>\n",
       "    <tr>\n",
       "      <th>7214</th>\n",
       "      <td>23400460</td>\n",
       "      <td>qa john dick on stem cells and cancer</td>\n",
       "      <td>Review</td>\n",
       "      <td>unavailable</td>\n",
       "      <td>Cancer discovery</td>\n",
       "      <td>1</td>\n",
       "      <td>Unknown</td>\n",
       "      <td>0</td>\n",
       "      <td>1</td>\n",
       "      <td>animals antineoplastic agents  therapeutic use...</td>\n",
       "      <td>NaN</td>\n",
       "      <td>7215</td>\n",
       "      <td>2013</td>\n",
       "      <td>46</td>\n",
       "      <td>1</td>\n",
       "      <td>8</td>\n",
       "      <td>0</td>\n",
       "    </tr>\n",
       "  </tbody>\n",
       "</table>\n",
       "</div>"
      ],
      "text/plain": [
       "      article_id                                              title  \\\n",
       "4485    28713990  inhibition of p38mapk potentiates mesenchymal ...   \n",
       "6822    28807014  epigenetic reprogramming converts human wharto...   \n",
       "7933    18769371  transplantation therapy for parkinson disease ...   \n",
       "7754    30089748  therapyrelated myelodysplastic syndrome after ...   \n",
       "944     28618324  stem cells an emerging novel therapeutic for t...   \n",
       "4503    26086962  neural stem cell transplantation at critical p...   \n",
       "4912    21547696  isolation of oct4 nanog and sox2 mesenchymal c...   \n",
       "3594    33169563  mesenchymal stem cells in the treatment of cov...   \n",
       "919     33426232  stem cell therapy for osteonecrosis of femoral...   \n",
       "7214    23400460              qa john dick on stem cells and cancer   \n",
       "\n",
       "     publication_type                                           abstract  \\\n",
       "4485           Review  the present study aimed to investigate the pro...   \n",
       "6822           Review  background lineage commitment of mesenchymal s...   \n",
       "7933        Editorial                                        unavailable   \n",
       "7754     Case Reports                                        unavailable   \n",
       "944            Review  stem cell based strategies are therapeutically...   \n",
       "4503           Review  alzheimers disease ad is characterized by neur...   \n",
       "4912           Review  diabetes mellitus is a chronic metabolic disor...   \n",
       "3594           Review  at present sarscov2 is raging and novel corona...   \n",
       "919            Review  osteonecrosis of the femoral head onfh is a pr...   \n",
       "7214           Review                                        unavailable   \n",
       "\n",
       "                                          journal_title  n_authors  \\\n",
       "4485                         Molecular medicine reports          4   \n",
       "6822                       Stem cell research & therapy          5   \n",
       "7933                Nature clinical practice. Neurology          1   \n",
       "7754  Journal of clinical and experimental hematopat...          5   \n",
       "944             Diabetes research and clinical practice          3   \n",
       "4503                               Cell death & disease          8   \n",
       "4912                                         Human cell          2   \n",
       "3594  Sheng wu gong cheng xue bao = Chinese journal ...          3   \n",
       "919                                Regenerative therapy          6   \n",
       "7214                                   Cancer discovery          1   \n",
       "\n",
       "     affiliations  n_affiliations  n_citations  \\\n",
       "4485        China               4            4   \n",
       "6822    Australia              13            8   \n",
       "7933      Unknown               0            1   \n",
       "7754        Japan               5            0   \n",
       "944         India               3            1   \n",
       "4503      Unknown               8           16   \n",
       "4912        India               1            3   \n",
       "3594        China               6            1   \n",
       "919         China              11            0   \n",
       "7214      Unknown               0            1   \n",
       "\n",
       "                                               keywords n_references  \\\n",
       "4485  animals apoptosis cardiotonic agents  metaboli...          NaN   \n",
       "6822  adaptor proteins animals base sequence calcium...           61   \n",
       "7933  animals humans parkinson disease  pathology pa...          NaN   \n",
       "7754  autografts female hematopoietic stem cell mobi...           12   \n",
       "944   animals autoimmunity diabetes mellitus diabete...          NaN   \n",
       "4503  alzheimer disease  therapy amyloid beta animal...           48   \n",
       "4912  adult antigens biomarkers  analysis cd13 antig...         None   \n",
       "3594  betacoronavirus covid clinical trials as topic...          NaN   \n",
       "919                                                none           91   \n",
       "7214  animals antineoplastic agents  therapeutic use...          NaN   \n",
       "\n",
       "      result_order  pub_year  n_keywords  abstract_wc  title_wc  n_countries  \n",
       "4485          4486      2017          47          226        14            1  \n",
       "6822          6823      2017          83          277        18            4  \n",
       "7933          7929      2008          31            1        12            0  \n",
       "7754          7754      2018          36            1        20            1  \n",
       "944            945      2017          17           51        10            1  \n",
       "4503          4504      2015          50          156        20            0  \n",
       "4912          4913      2011          60          228        16            1  \n",
       "3594          3595      2020          23          202        10            1  \n",
       "919            920      2020           0          239        11            1  \n",
       "7214          7215      2013          46            1         8            0  "
      ]
     },
     "execution_count": 37,
     "metadata": {},
     "output_type": "execute_result"
    }
   ],
   "source": [
    "# Take a look at the cleaned dataset\n",
    "df.sample(10)"
   ]
  },
  {
   "cell_type": "code",
   "execution_count": 38,
   "metadata": {
    "scrolled": false
   },
   "outputs": [
    {
     "name": "stdout",
     "output_type": "stream",
     "text": [
      "<class 'pandas.core.frame.DataFrame'>\n",
      "Int64Index: 9921 entries, 0 to 9925\n",
      "Data columns (total 17 columns):\n",
      " #   Column            Non-Null Count  Dtype \n",
      "---  ------            --------------  ----- \n",
      " 0   article_id        9921 non-null   int64 \n",
      " 1   title             9921 non-null   object\n",
      " 2   publication_type  9921 non-null   object\n",
      " 3   abstract          9921 non-null   object\n",
      " 4   journal_title     9921 non-null   object\n",
      " 5   n_authors         9921 non-null   int64 \n",
      " 6   affiliations      9921 non-null   object\n",
      " 7   n_affiliations    9921 non-null   int64 \n",
      " 8   n_citations       9921 non-null   int64 \n",
      " 9   keywords          9921 non-null   object\n",
      " 10  n_references      2917 non-null   object\n",
      " 11  result_order      9921 non-null   int32 \n",
      " 12  pub_year          9921 non-null   int64 \n",
      " 13  n_keywords        9921 non-null   int64 \n",
      " 14  abstract_wc       9921 non-null   int64 \n",
      " 15  title_wc          9921 non-null   int64 \n",
      " 16  n_countries       9921 non-null   int64 \n",
      "dtypes: int32(1), int64(9), object(7)\n",
      "memory usage: 1.6+ MB\n"
     ]
    }
   ],
   "source": [
    "df.info()"
   ]
  },
  {
   "cell_type": "code",
   "execution_count": 39,
   "metadata": {},
   "outputs": [
    {
     "data": {
      "text/plain": [
       "(9921, 17)"
      ]
     },
     "execution_count": 39,
     "metadata": {},
     "output_type": "execute_result"
    }
   ],
   "source": [
    "df.shape"
   ]
  },
  {
   "cell_type": "markdown",
   "metadata": {},
   "source": [
    "#### Cleaned dataset description"
   ]
  },
  {
   "cell_type": "markdown",
   "metadata": {},
   "source": [
    "Now we have a dataset with 9921 rows and 17 columns that have no null values (except for `n_references` which will need to be imputed later). Each text column (`title`, `abstract` and `keywords`) have punctuations stripped and everything in lower case. Quantitative measures like number of keywords, number of countries, and number of citations were added.\n",
    "\n",
    "The influence of a paper is determined by the number of times it has been cited by other publications. It would be interesting to see if this is something we can predict from the features that we have about each publication. This would be a good way for me to further my understanding of the dataset. \n",
    "\n",
    "My ultimate goal here, however, is to understand what the major topics within 'stem cell therapies' are. For this, a promising metric is PubMed's keywords. Let's see how this metric has evolved over time. "
   ]
  },
  {
   "cell_type": "code",
   "execution_count": 41,
   "metadata": {
    "scrolled": false
   },
   "outputs": [
    {
     "data": {
      "image/png": "[encoded data removed]",
      "text/plain": [
       "<Figure size 720x432 with 1 Axes>"
      ]
     },
     "metadata": {
      "needs_background": "light"
     },
     "output_type": "display_data"
    }
   ],
   "source": [
    "# Group into different years and aggregate count for the number of publications per year\n",
    "n_pubs = df.groupby('pub_year').agg('count')['title'].values\n",
    "pub_year = df.groupby('pub_year').agg('count')['title'].index\n",
    "\n",
    "# Create new df for keywords by year\n",
    "keywords_by_year = df.groupby('pub_year')['keywords'].agg('sum').reset_index()\n",
    "\n",
    "# Count the number of unique keywords for each year\n",
    "keywords_by_year['n_keywords'] = keywords_by_year['keywords'].apply(lambda x: len(set(x.split(' '))))\n",
    "keywords_by_year['n_publications'] = n_pubs\n",
    "\n",
    "# Plot keywords and publications over time\n",
    "plt.figure(figsize=(10,6))\n",
    "plt.plot(pub_year[:-1], n_pubs[:-1], marker='.', label='Publications')\n",
    "plt.plot(keywords_by_year['pub_year'][:-1], keywords_by_year['n_keywords'][:-1], marker='.', label='Keywords')\n",
    "plt.xlabel('Year', fontsize=20)\n",
    "plt.ylabel('Count', fontsize=20)\n",
    "plt.legend(fontsize=14)\n",
    "plt.xticks(fontsize=20)\n",
    "plt.yticks(fontsize=20)\n",
    "plt.title('Number of Publications and Keywords Between 1975-2020', fontsize=20)\n",
    "plt.savefig('Timecourse_pubs_kw.png')"
   ]
  },
  {
   "cell_type": "code",
   "execution_count": 43,
   "metadata": {},
   "outputs": [
    {
     "data": {
      "image/png": "[encoded data removed]",
      "text/plain": [
       "<Figure size 720x432 with 1 Axes>"
      ]
     },
     "metadata": {
      "needs_background": "light"
     },
     "output_type": "display_data"
    }
   ],
   "source": [
    "# Group into different years and aggregate count for the number of publications per year\n",
    "n_pubs = df.groupby('pub_year').agg('count')['title'].values\n",
    "pub_year = df.groupby('pub_year').agg('count')['title'].index\n",
    "\n",
    "# Create new df for keywords by year\n",
    "keywords_by_year = df.groupby('pub_year')['keywords'].agg('sum').reset_index()\n",
    "\n",
    "# Count the number of unique keywords for each year\n",
    "keywords_by_year['n_keywords'] = keywords_by_year['keywords'].apply(lambda x: len(set(x.split(' '))))\n",
    "keywords_by_year['n_publications'] = n_pubs\n",
    "\n",
    "# Plot keywords and publications over time\n",
    "plt.figure(figsize=(10,6))\n",
    "plt.plot(keywords_by_year['pub_year'][:-1], keywords_by_year['n_keywords'][:-1]/n_pubs[:-1], marker='.', label='Keywords/Publications')\n",
    "plt.xlabel('Year', fontsize=20)\n",
    "plt.ylabel('Count', fontsize=20)\n",
    "plt.legend(fontsize=14)\n",
    "plt.xticks(fontsize=20)\n",
    "plt.yticks(fontsize=20)\n",
    "plt.title('Number of Publications and Keywords Between 1975-2020', fontsize=20)\n",
    "plt.savefig('Timecourse_pubs_kw.png')"
   ]
  },
  {
   "cell_type": "code",
   "execution_count": 38,
   "metadata": {},
   "outputs": [],
   "source": [
    "# Save keywords from different eras into csvs to look at later\n",
    "kw_upto2005 = keywords_by_year[0:30]\n",
    "kw_from2005 = keywords_by_year[30:-1]\n",
    "\n",
    "kw_upto2005.to_csv('kw_upto2005.csv')\n",
    "kw_from2005.to_csv('kw_from2005.csv')"
   ]
  },
  {
   "cell_type": "markdown",
   "metadata": {},
   "source": [
    "The number of unique keywords stayed quite constant up until 1990 from where it saw a dramatic increase until 2020. Again we are seeing quite a significant decrease in number of unique keywords in 2021. This is probably attributed to the fact that the scrape occurred in 2021 July, but perhaps there's been some consolidation in the topics because of Covid-19. \n",
    "\n",
    "None the less, at the current time, there are about 2000 unique key words within the topic of 'stem cell therapies'. This is too many for a human like myself to sift through and understand in a short amount of time. I think it would be great if we could condense this down to somewhere between 10-100 key topics. "
   ]
  },
  {
   "cell_type": "code",
   "execution_count": 53,
   "metadata": {},
   "outputs": [
    {
     "data": {
      "text/plain": [
       "0       {, randomized, controlled, therapy, cell, phys...\n",
       "1       {, cytology, induced, cell, transplantation, n...\n",
       "2       {, induced, humans, diseases, cell, transplant...\n",
       "3       {, cytology, therapy, cell, heart, transplanta...\n",
       "4       {, therapy, myelin, sheath, cell, transplantat...\n",
       "                              ...                        \n",
       "9921    {, lineage, therapeutic, humans, use, animals,...\n",
       "9922    {, effects, therapy, leukemia, cell, transplan...\n",
       "9923    {, female, middle, therapeutic, induction, tri...\n",
       "9924    {, separation, ansplantation, humans, animals,...\n",
       "9925    {, therapeutic, anscription, humans, use, neop...\n",
       "Name: keywords, Length: 9921, dtype: object"
      ]
     },
     "execution_count": 53,
     "metadata": {},
     "output_type": "execute_result"
    }
   ],
   "source": [
    "for i in range(len(df)):\n",
    "    df['keywords'].apply(lambda x: set(x.split(' ')))"
   ]
  },
  {
   "cell_type": "markdown",
   "metadata": {},
   "source": [
    "### Summary\n",
    "\n",
    "The raw scraped dataset contained data about 9926 publications from a search query in PubMed with the term 'stem cell therapies'. Each data point had 12 features. With data exploration, I removed duplicates, extracted information, and filled missing values and now have information about 9921 publications with 17 features. \n",
    "\n",
    "I will continue with the data exploration by attempting to predict a publication's influence level through classification models and move on to Topic Modeling to condense the ~2000 key words about 'stem cell therapies' into 10-100 key topics."
   ]
  },
  {
   "cell_type": "markdown",
   "metadata": {},
   "source": [
    "### Export clean dataset to csv"
   ]
  },
  {
   "cell_type": "code",
   "execution_count": 245,
   "metadata": {},
   "outputs": [],
   "source": [
    "df.to_csv('pubmedscrape_full_cleaned.csv')"
   ]
  }
 ],
 "metadata": {
  "colab": {
   "name": "Pubmed_EDA.ipynb",
   "provenance": []
  },
  "hide_input": false,
  "kernelspec": {
   "display_name": "Python 3",
   "language": "python",
   "name": "python3"
  },
  "language_info": {
   "codemirror_mode": {
    "name": "ipython",
    "version": 3
   },
   "file_extension": ".py",
   "mimetype": "text/x-python",
   "name": "python",
   "nbconvert_exporter": "python",
   "pygments_lexer": "ipython3",
   "version": "3.8.5"
  },
  "toc": {
   "base_numbering": 1,
   "nav_menu": {},
   "number_sections": true,
   "sideBar": true,
   "skip_h1_title": false,
   "title_cell": "Table of Contents",
   "title_sidebar": "Contents",
   "toc_cell": false,
   "toc_position": {
    "height": "calc(100% - 180px)",
    "left": "10px",
    "top": "150px",
    "width": "221.1px"
   },
   "toc_section_display": true,
   "toc_window_display": true
  },
  "varInspector": {
   "cols": {
    "lenName": 16,
    "lenType": 16,
    "lenVar": 40
   },
   "kernels_config": {
    "python": {
     "delete_cmd_postfix": "",
     "delete_cmd_prefix": "del ",
     "library": "var_list.py",
     "varRefreshCmd": "print(var_dic_list())"
    },
    "r": {
     "delete_cmd_postfix": ") ",
     "delete_cmd_prefix": "rm(",
     "library": "var_list.r",
     "varRefreshCmd": "cat(var_dic_list()) "
    }
   },
   "types_to_exclude": [
    "module",
    "function",
    "builtin_function_or_method",
    "instance",
    "_Feature"
   ],
   "window_display": false
  }
 },
 "nbformat": 4,
 "nbformat_minor": 1
}
